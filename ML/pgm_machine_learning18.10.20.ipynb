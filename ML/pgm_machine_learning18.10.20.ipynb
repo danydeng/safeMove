{
 "cells": [
  {
   "cell_type": "code",
   "execution_count": 2,
   "metadata": {},
   "outputs": [],
   "source": [
    "import pandas as pd\n",
    "import numpy as np\n",
    "import matplotlib.pyplot as plt\n",
    "\n",
    "import seaborn as sns\n",
    "\n",
    "from sklearn.preprocessing import normalize\n",
    "from sklearn.model_selection import train_test_split, GridSearchCV\n",
    "\n",
    "from sklearn.metrics import accuracy_score, confusion_matrix\n",
    "from sklearn.metrics import recall_score, f1_score\n",
    "\n",
    "from sklearn.linear_model import LogisticRegression\n",
    "from sklearn.model_selection import train_test_split\n",
    "from sklearn import metrics"
   ]
  },
  {
   "cell_type": "markdown",
   "metadata": {},
   "source": [
    "# DATA FILES SOURCE"
   ]
  },
  {
   "cell_type": "code",
   "execution_count": 3,
   "metadata": {},
   "outputs": [],
   "source": [
    "vehicules= pd.read_csv('/home/fitec/PROJET/out_clean/vehicules.csv',dtype=str)\n",
    "usagers=pd.read_csv('/home/fitec/PROJET/out_clean/usagers.csv',dtype=str)\n",
    "charac=pd.read_csv('/home/fitec/PROJET/out_clean/caracteristiques.csv',dtype=str)\n",
    "lieux=pd.read_csv('/home/fitec/PROJET/out_clean/lieux.csv',dtype=str)"
   ]
  },
  {
   "cell_type": "code",
   "execution_count": 4,
   "metadata": {},
   "outputs": [
    {
     "name": "stdout",
     "output_type": "stream",
     "text": [
      "<class 'pandas.core.frame.DataFrame'>\n",
      "RangeIndex: 1635811 entries, 0 to 1635810\n",
      "Data columns (total 4 columns):\n",
      " #   Column   Non-Null Count    Dtype \n",
      "---  ------   --------------    ----- \n",
      " 0   Num_Acc  1635811 non-null  object\n",
      " 1   catv     1635811 non-null  object\n",
      " 2   num_veh  1635811 non-null  object\n",
      " 3   year     1635811 non-null  object\n",
      "dtypes: object(4)\n",
      "memory usage: 49.9+ MB\n"
     ]
    }
   ],
   "source": [
    "vehicules.info()\n",
    "#vehicules['catv']=vehicules['catv'].astype('category')\n",
    "vehicules['catv']=vehicules['catv'].astype('int64')"
   ]
  },
  {
   "cell_type": "code",
   "execution_count": 5,
   "metadata": {},
   "outputs": [
    {
     "name": "stdout",
     "output_type": "stream",
     "text": [
      "<class 'pandas.core.frame.DataFrame'>\n",
      "RangeIndex: 2142195 entries, 0 to 2142194\n",
      "Data columns (total 12 columns):\n",
      " #   Column   Dtype \n",
      "---  ------   ----- \n",
      " 0   Num_Acc  object\n",
      " 1   place    object\n",
      " 2   catu     object\n",
      " 3   grav     object\n",
      " 4   sexe     object\n",
      " 5   trajet   object\n",
      " 6   secu     object\n",
      " 7   an_nais  object\n",
      " 8   num_veh  object\n",
      " 9   year     object\n",
      " 10  dc       object\n",
      " 11  age      object\n",
      "dtypes: object(12)\n",
      "memory usage: 196.1+ MB\n"
     ]
    }
   ],
   "source": [
    "usagers.info()\n"
   ]
  },
  {
   "cell_type": "code",
   "execution_count": 6,
   "metadata": {},
   "outputs": [],
   "source": [
    "usagers[['place','catu','grav','sexe','trajet','secu']]=usagers[['place','catu','grav','sexe','trajet','secu']].astype('int64')\n",
    "\n",
    "usagers['age']=usagers['age'].astype('float64')"
   ]
  },
  {
   "cell_type": "code",
   "execution_count": 375,
   "metadata": {},
   "outputs": [
    {
     "name": "stdout",
     "output_type": "stream",
     "text": [
      "<class 'pandas.core.frame.DataFrame'>\n",
      "RangeIndex: 958469 entries, 0 to 958468\n",
      "Data columns (total 6 columns):\n",
      " #   Column   Non-Null Count   Dtype \n",
      "---  ------   --------------   ----- \n",
      " 0   Num_Acc  958469 non-null  object\n",
      " 1   catr     958469 non-null  object\n",
      " 2   circ     958469 non-null  object\n",
      " 3   surf     958469 non-null  object\n",
      " 4   situ     958469 non-null  object\n",
      " 5   year     958469 non-null  object\n",
      "dtypes: object(6)\n",
      "memory usage: 43.9+ MB\n"
     ]
    }
   ],
   "source": [
    "lieux.info()"
   ]
  },
  {
   "cell_type": "code",
   "execution_count": 7,
   "metadata": {},
   "outputs": [],
   "source": [
    "lieux[['catr','circ','surf','situ']]=lieux[['catr','circ','surf','situ']].astype('int64')\n"
   ]
  },
  {
   "cell_type": "code",
   "execution_count": 377,
   "metadata": {},
   "outputs": [
    {
     "name": "stdout",
     "output_type": "stream",
     "text": [
      "<class 'pandas.core.frame.DataFrame'>\n",
      "RangeIndex: 958469 entries, 0 to 958468\n",
      "Data columns (total 17 columns):\n",
      " #   Column   Non-Null Count   Dtype \n",
      "---  ------   --------------   ----- \n",
      " 0   Num_Acc  958469 non-null  object\n",
      " 1   an       958469 non-null  object\n",
      " 2   mois     958469 non-null  object\n",
      " 3   jour     958469 non-null  object\n",
      " 4   hrmn     958469 non-null  object\n",
      " 5   lum      958469 non-null  object\n",
      " 6   agg      958469 non-null  object\n",
      " 7   atm      958469 non-null  object\n",
      " 8   com      958467 non-null  object\n",
      " 9   adr      816550 non-null  object\n",
      " 10  gps      480052 non-null  object\n",
      " 11  lat      471401 non-null  object\n",
      " 12  long     468188 non-null  object\n",
      " 13  dep      958469 non-null  object\n",
      " 14  year     958469 non-null  object\n",
      " 15  cp       958467 non-null  object\n",
      " 16  h24      958469 non-null  object\n",
      "dtypes: object(17)\n",
      "memory usage: 124.3+ MB\n"
     ]
    }
   ],
   "source": [
    "charac.info()"
   ]
  },
  {
   "cell_type": "code",
   "execution_count": 8,
   "metadata": {},
   "outputs": [],
   "source": [
    "charac[['lum','agg','atm']]=charac[['lum','agg','atm']].astype('int64')"
   ]
  },
  {
   "cell_type": "markdown",
   "metadata": {},
   "source": [
    "# MISE EN COMMUN DES DONNEES"
   ]
  },
  {
   "cell_type": "code",
   "execution_count": 9,
   "metadata": {},
   "outputs": [],
   "source": [
    "df_once=charac.merge(lieux,on=['Num_Acc','year']).drop(['adr'],axis=1)\n",
    "df_dbl=usagers.merge(vehicules,on=['Num_Acc','num_veh','year'])"
   ]
  },
  {
   "cell_type": "code",
   "execution_count": 10,
   "metadata": {},
   "outputs": [],
   "source": [
    "df_rdc=df_once.merge(df_dbl,on=['Num_Acc','year'])"
   ]
  },
  {
   "cell_type": "code",
   "execution_count": 1001,
   "metadata": {},
   "outputs": [
    {
     "data": {
      "text/plain": [
       "(2142173, 31)"
      ]
     },
     "execution_count": 1001,
     "metadata": {},
     "output_type": "execute_result"
    }
   ],
   "source": [
    "df_rdc.shape"
   ]
  },
  {
   "cell_type": "code",
   "execution_count": 1002,
   "metadata": {},
   "outputs": [
    {
     "name": "stdout",
     "output_type": "stream",
     "text": [
      "        Num_Acc   an  mois jour  hrmn  lum  agg  atm  com gps  ...  catu  \\\n",
      "0  200500000001  5.0   1.0   12  1900    3    2    1  011   M  ...     1   \n",
      "1  200500000001  5.0   1.0   12  1900    3    2    1  011   M  ...     1   \n",
      "2  200500000001  5.0   1.0   12  1900    3    2    1  011   M  ...     2   \n",
      "3  200500000001  5.0   1.0   12  1900    3    2    1  011   M  ...     2   \n",
      "4  200500000001  5.0   1.0   12  1900    3    2    1  011   M  ...     2   \n",
      "\n",
      "   grav sexe  trajet  secu  an_nais  num_veh  dc   age  catv  \n",
      "0     4    1       1    11   1976.0      A01   0  44.0     7  \n",
      "1     3    2       3    11   1968.0      B02   0  52.0     7  \n",
      "2     1    1       0    11   1964.0      B02   0  56.0     7  \n",
      "3     1    1       0    31   2004.0      B02   0  16.0     7  \n",
      "4     1    1       0    11   1998.0      B02   0  22.0     7  \n",
      "\n",
      "[5 rows x 31 columns]\n"
     ]
    }
   ],
   "source": [
    "print(df_rdc.head())"
   ]
  },
  {
   "cell_type": "code",
   "execution_count": 11,
   "metadata": {},
   "outputs": [],
   "source": [
    "df_rdc[['an','mois','h24','cp','lat','long','year']]=df_rdc[['an','mois','h24','cp','lat','long','year']].astype('float64')\n"
   ]
  },
  {
   "cell_type": "code",
   "execution_count": 12,
   "metadata": {},
   "outputs": [],
   "source": [
    "df_rdc['lat']=df_rdc.loc[:,'lat']/100000"
   ]
  },
  {
   "cell_type": "code",
   "execution_count": 13,
   "metadata": {},
   "outputs": [],
   "source": [
    "df_rdc['long']=df_rdc.loc[:,'long']/100000"
   ]
  },
  {
   "cell_type": "code",
   "execution_count": 297,
   "metadata": {},
   "outputs": [
    {
     "data": {
      "text/html": [
       "<div>\n",
       "<style scoped>\n",
       "    .dataframe tbody tr th:only-of-type {\n",
       "        vertical-align: middle;\n",
       "    }\n",
       "\n",
       "    .dataframe tbody tr th {\n",
       "        vertical-align: top;\n",
       "    }\n",
       "\n",
       "    .dataframe thead th {\n",
       "        text-align: right;\n",
       "    }\n",
       "</style>\n",
       "<table border=\"1\" class=\"dataframe\">\n",
       "  <thead>\n",
       "    <tr style=\"text-align: right;\">\n",
       "      <th></th>\n",
       "      <th>Num_Acc</th>\n",
       "      <th>catv</th>\n",
       "      <th>num_veh</th>\n",
       "      <th>year</th>\n",
       "    </tr>\n",
       "  </thead>\n",
       "  <tbody>\n",
       "    <tr>\n",
       "      <th>0</th>\n",
       "      <td>200500000001</td>\n",
       "      <td>7</td>\n",
       "      <td>A01</td>\n",
       "      <td>2005</td>\n",
       "    </tr>\n",
       "    <tr>\n",
       "      <th>1</th>\n",
       "      <td>200500000001</td>\n",
       "      <td>7</td>\n",
       "      <td>B02</td>\n",
       "      <td>2005</td>\n",
       "    </tr>\n",
       "    <tr>\n",
       "      <th>2</th>\n",
       "      <td>200500000002</td>\n",
       "      <td>7</td>\n",
       "      <td>A01</td>\n",
       "      <td>2005</td>\n",
       "    </tr>\n",
       "    <tr>\n",
       "      <th>3</th>\n",
       "      <td>200500000002</td>\n",
       "      <td>2</td>\n",
       "      <td>B02</td>\n",
       "      <td>2005</td>\n",
       "    </tr>\n",
       "    <tr>\n",
       "      <th>4</th>\n",
       "      <td>200500000003</td>\n",
       "      <td>2</td>\n",
       "      <td>A01</td>\n",
       "      <td>2005</td>\n",
       "    </tr>\n",
       "  </tbody>\n",
       "</table>\n",
       "</div>"
      ],
      "text/plain": [
       "        Num_Acc  catv num_veh  year\n",
       "0  200500000001     7     A01  2005\n",
       "1  200500000001     7     B02  2005\n",
       "2  200500000002     7     A01  2005\n",
       "3  200500000002     2     B02  2005\n",
       "4  200500000003     2     A01  2005"
      ]
     },
     "execution_count": 297,
     "metadata": {},
     "output_type": "execute_result"
    }
   ],
   "source": [
    "vehicules.head()"
   ]
  },
  {
   "cell_type": "code",
   "execution_count": 941,
   "metadata": {},
   "outputs": [
    {
     "data": {
      "text/plain": [
       "Num_Acc     0.000000\n",
       "an          0.000000\n",
       "mois        0.000000\n",
       "jour        0.000000\n",
       "hrmn        0.000000\n",
       "lum         0.000000\n",
       "agg         0.000000\n",
       "atm         0.000000\n",
       "com         0.000280\n",
       "gps        48.808850\n",
       "lat        49.756626\n",
       "long       50.094740\n",
       "dep         0.000000\n",
       "year        0.000000\n",
       "cp          0.000280\n",
       "h24         0.000000\n",
       "catr        0.000000\n",
       "circ        0.000000\n",
       "surf        0.000000\n",
       "situ        0.000000\n",
       "place       0.000000\n",
       "catu        0.000000\n",
       "grav        0.000000\n",
       "sexe        0.000000\n",
       "trajet      0.000000\n",
       "secu        0.000000\n",
       "an_nais     0.000000\n",
       "num_veh     0.000000\n",
       "dc          0.000000\n",
       "age         0.000000\n",
       "catv        0.000000\n",
       "dtype: float64"
      ]
     },
     "execution_count": 941,
     "metadata": {},
     "output_type": "execute_result"
    }
   ],
   "source": [
    "df_rdc.isna().sum()*100/len(df_rdc)"
   ]
  },
  {
   "cell_type": "code",
   "execution_count": 15,
   "metadata": {},
   "outputs": [
    {
     "data": {
      "text/html": [
       "<div>\n",
       "<style scoped>\n",
       "    .dataframe tbody tr th:only-of-type {\n",
       "        vertical-align: middle;\n",
       "    }\n",
       "\n",
       "    .dataframe tbody tr th {\n",
       "        vertical-align: top;\n",
       "    }\n",
       "\n",
       "    .dataframe thead th {\n",
       "        text-align: right;\n",
       "    }\n",
       "</style>\n",
       "<table border=\"1\" class=\"dataframe\">\n",
       "  <thead>\n",
       "    <tr style=\"text-align: right;\">\n",
       "      <th></th>\n",
       "      <th>Num_Acc</th>\n",
       "      <th>an</th>\n",
       "      <th>mois</th>\n",
       "      <th>jour</th>\n",
       "      <th>hrmn</th>\n",
       "      <th>lum</th>\n",
       "      <th>agg</th>\n",
       "      <th>atm</th>\n",
       "      <th>com</th>\n",
       "      <th>gps</th>\n",
       "      <th>...</th>\n",
       "      <th>catu</th>\n",
       "      <th>grav</th>\n",
       "      <th>sexe</th>\n",
       "      <th>trajet</th>\n",
       "      <th>secu</th>\n",
       "      <th>an_nais</th>\n",
       "      <th>num_veh</th>\n",
       "      <th>dc</th>\n",
       "      <th>age</th>\n",
       "      <th>catv</th>\n",
       "    </tr>\n",
       "  </thead>\n",
       "  <tbody>\n",
       "    <tr>\n",
       "      <th>0</th>\n",
       "      <td>200500000001</td>\n",
       "      <td>5.0</td>\n",
       "      <td>1.0</td>\n",
       "      <td>12</td>\n",
       "      <td>1900</td>\n",
       "      <td>3</td>\n",
       "      <td>2</td>\n",
       "      <td>1</td>\n",
       "      <td>011</td>\n",
       "      <td>M</td>\n",
       "      <td>...</td>\n",
       "      <td>1</td>\n",
       "      <td>4</td>\n",
       "      <td>1</td>\n",
       "      <td>1</td>\n",
       "      <td>11</td>\n",
       "      <td>1976.0</td>\n",
       "      <td>A01</td>\n",
       "      <td>0</td>\n",
       "      <td>44.0</td>\n",
       "      <td>07</td>\n",
       "    </tr>\n",
       "    <tr>\n",
       "      <th>1</th>\n",
       "      <td>200500000001</td>\n",
       "      <td>5.0</td>\n",
       "      <td>1.0</td>\n",
       "      <td>12</td>\n",
       "      <td>1900</td>\n",
       "      <td>3</td>\n",
       "      <td>2</td>\n",
       "      <td>1</td>\n",
       "      <td>011</td>\n",
       "      <td>M</td>\n",
       "      <td>...</td>\n",
       "      <td>1</td>\n",
       "      <td>3</td>\n",
       "      <td>2</td>\n",
       "      <td>3</td>\n",
       "      <td>11</td>\n",
       "      <td>1968.0</td>\n",
       "      <td>B02</td>\n",
       "      <td>0</td>\n",
       "      <td>52.0</td>\n",
       "      <td>07</td>\n",
       "    </tr>\n",
       "    <tr>\n",
       "      <th>2</th>\n",
       "      <td>200500000001</td>\n",
       "      <td>5.0</td>\n",
       "      <td>1.0</td>\n",
       "      <td>12</td>\n",
       "      <td>1900</td>\n",
       "      <td>3</td>\n",
       "      <td>2</td>\n",
       "      <td>1</td>\n",
       "      <td>011</td>\n",
       "      <td>M</td>\n",
       "      <td>...</td>\n",
       "      <td>2</td>\n",
       "      <td>1</td>\n",
       "      <td>1</td>\n",
       "      <td>0</td>\n",
       "      <td>11</td>\n",
       "      <td>1964.0</td>\n",
       "      <td>B02</td>\n",
       "      <td>0</td>\n",
       "      <td>56.0</td>\n",
       "      <td>07</td>\n",
       "    </tr>\n",
       "    <tr>\n",
       "      <th>3</th>\n",
       "      <td>200500000001</td>\n",
       "      <td>5.0</td>\n",
       "      <td>1.0</td>\n",
       "      <td>12</td>\n",
       "      <td>1900</td>\n",
       "      <td>3</td>\n",
       "      <td>2</td>\n",
       "      <td>1</td>\n",
       "      <td>011</td>\n",
       "      <td>M</td>\n",
       "      <td>...</td>\n",
       "      <td>2</td>\n",
       "      <td>1</td>\n",
       "      <td>1</td>\n",
       "      <td>0</td>\n",
       "      <td>31</td>\n",
       "      <td>2004.0</td>\n",
       "      <td>B02</td>\n",
       "      <td>0</td>\n",
       "      <td>16.0</td>\n",
       "      <td>07</td>\n",
       "    </tr>\n",
       "    <tr>\n",
       "      <th>4</th>\n",
       "      <td>200500000001</td>\n",
       "      <td>5.0</td>\n",
       "      <td>1.0</td>\n",
       "      <td>12</td>\n",
       "      <td>1900</td>\n",
       "      <td>3</td>\n",
       "      <td>2</td>\n",
       "      <td>1</td>\n",
       "      <td>011</td>\n",
       "      <td>M</td>\n",
       "      <td>...</td>\n",
       "      <td>2</td>\n",
       "      <td>1</td>\n",
       "      <td>1</td>\n",
       "      <td>0</td>\n",
       "      <td>11</td>\n",
       "      <td>1998.0</td>\n",
       "      <td>B02</td>\n",
       "      <td>0</td>\n",
       "      <td>22.0</td>\n",
       "      <td>07</td>\n",
       "    </tr>\n",
       "  </tbody>\n",
       "</table>\n",
       "<p>5 rows × 31 columns</p>\n",
       "</div>"
      ],
      "text/plain": [
       "        Num_Acc   an  mois jour  hrmn lum agg atm  com gps  ...  catu  grav  \\\n",
       "0  200500000001  5.0   1.0   12  1900   3   2   1  011   M  ...     1     4   \n",
       "1  200500000001  5.0   1.0   12  1900   3   2   1  011   M  ...     1     3   \n",
       "2  200500000001  5.0   1.0   12  1900   3   2   1  011   M  ...     2     1   \n",
       "3  200500000001  5.0   1.0   12  1900   3   2   1  011   M  ...     2     1   \n",
       "4  200500000001  5.0   1.0   12  1900   3   2   1  011   M  ...     2     1   \n",
       "\n",
       "  sexe  trajet  secu  an_nais num_veh dc   age catv  \n",
       "0    1       1    11   1976.0     A01  0  44.0   07  \n",
       "1    2       3    11   1968.0     B02  0  52.0   07  \n",
       "2    1       0    11   1964.0     B02  0  56.0   07  \n",
       "3    1       0    31   2004.0     B02  0  16.0   07  \n",
       "4    1       0    11   1998.0     B02  0  22.0   07  \n",
       "\n",
       "[5 rows x 31 columns]"
      ]
     },
     "execution_count": 15,
     "metadata": {},
     "output_type": "execute_result"
    }
   ],
   "source": [
    "df_rdc.head()"
   ]
  },
  {
   "cell_type": "markdown",
   "metadata": {},
   "source": [
    "# EXPLORATION"
   ]
  },
  {
   "cell_type": "code",
   "execution_count": 1,
   "metadata": {},
   "outputs": [],
   "source": [
    "## analyses bivariées"
   ]
  },
  {
   "cell_type": "code",
   "execution_count": null,
   "metadata": {},
   "outputs": [],
   "source": [
    "pd.crosstab(usagers[\"dc\"],charac[\"lum\"],margins=True)"
   ]
  },
  {
   "cell_type": "code",
   "execution_count": null,
   "metadata": {},
   "outputs": [],
   "source": [
    "pd.crosstab(usagers[\"dc\"],charac[\"agg\"],margins=True)"
   ]
  },
  {
   "cell_type": "code",
   "execution_count": null,
   "metadata": {},
   "outputs": [],
   "source": [
    "pd.crosstab(usagers[\"dc\"],charac[\"atm\"],margins=True)"
   ]
  },
  {
   "cell_type": "code",
   "execution_count": null,
   "metadata": {},
   "outputs": [],
   "source": [
    "pd.crosstab(usagers[\"dc\"],lieux[\"catr\"],margins=True)"
   ]
  },
  {
   "cell_type": "code",
   "execution_count": null,
   "metadata": {},
   "outputs": [],
   "source": [
    "pd.crosstab(usagers[\"dc\"],lieux[\"circ\"],margins=True)"
   ]
  },
  {
   "cell_type": "code",
   "execution_count": null,
   "metadata": {},
   "outputs": [],
   "source": [
    "pd.crosstab(usagers[\"dc\"],lieux[\"surf\"],margins=True)"
   ]
  },
  {
   "cell_type": "code",
   "execution_count": null,
   "metadata": {},
   "outputs": [],
   "source": [
    "pd.crosstab(usagers[\"dc\"],lieux[\"situ\"],margins=True)"
   ]
  },
  {
   "cell_type": "code",
   "execution_count": 66,
   "metadata": {},
   "outputs": [
    {
     "data": {
      "text/html": [
       "<div>\n",
       "<style scoped>\n",
       "    .dataframe tbody tr th:only-of-type {\n",
       "        vertical-align: middle;\n",
       "    }\n",
       "\n",
       "    .dataframe tbody tr th {\n",
       "        vertical-align: top;\n",
       "    }\n",
       "\n",
       "    .dataframe thead th {\n",
       "        text-align: right;\n",
       "    }\n",
       "</style>\n",
       "<table border=\"1\" class=\"dataframe\">\n",
       "  <thead>\n",
       "    <tr style=\"text-align: right;\">\n",
       "      <th>catv</th>\n",
       "      <th>1</th>\n",
       "      <th>2</th>\n",
       "      <th>3</th>\n",
       "      <th>4</th>\n",
       "      <th>5</th>\n",
       "      <th>6</th>\n",
       "      <th>7</th>\n",
       "      <th>8</th>\n",
       "      <th>9</th>\n",
       "      <th>10</th>\n",
       "      <th>...</th>\n",
       "      <th>33</th>\n",
       "      <th>34</th>\n",
       "      <th>35</th>\n",
       "      <th>36</th>\n",
       "      <th>37</th>\n",
       "      <th>38</th>\n",
       "      <th>39</th>\n",
       "      <th>40</th>\n",
       "      <th>99</th>\n",
       "      <th>All</th>\n",
       "    </tr>\n",
       "    <tr>\n",
       "      <th>dc</th>\n",
       "      <th></th>\n",
       "      <th></th>\n",
       "      <th></th>\n",
       "      <th></th>\n",
       "      <th></th>\n",
       "      <th></th>\n",
       "      <th></th>\n",
       "      <th></th>\n",
       "      <th></th>\n",
       "      <th></th>\n",
       "      <th></th>\n",
       "      <th></th>\n",
       "      <th></th>\n",
       "      <th></th>\n",
       "      <th></th>\n",
       "      <th></th>\n",
       "      <th></th>\n",
       "      <th></th>\n",
       "      <th></th>\n",
       "      <th></th>\n",
       "      <th></th>\n",
       "    </tr>\n",
       "  </thead>\n",
       "  <tbody>\n",
       "    <tr>\n",
       "      <th>0</th>\n",
       "      <td>66113</td>\n",
       "      <td>85230</td>\n",
       "      <td>5630</td>\n",
       "      <td>7280</td>\n",
       "      <td>21197</td>\n",
       "      <td>37</td>\n",
       "      <td>988893</td>\n",
       "      <td>119</td>\n",
       "      <td>295</td>\n",
       "      <td>79445</td>\n",
       "      <td>...</td>\n",
       "      <td>111578</td>\n",
       "      <td>16579</td>\n",
       "      <td>428</td>\n",
       "      <td>1870</td>\n",
       "      <td>10162</td>\n",
       "      <td>2828</td>\n",
       "      <td>371</td>\n",
       "      <td>1759</td>\n",
       "      <td>6389</td>\n",
       "      <td>1590867</td>\n",
       "    </tr>\n",
       "    <tr>\n",
       "      <th>1</th>\n",
       "      <td>1816</td>\n",
       "      <td>2401</td>\n",
       "      <td>149</td>\n",
       "      <td>183</td>\n",
       "      <td>619</td>\n",
       "      <td>2</td>\n",
       "      <td>27928</td>\n",
       "      <td>1</td>\n",
       "      <td>5</td>\n",
       "      <td>2295</td>\n",
       "      <td>...</td>\n",
       "      <td>3103</td>\n",
       "      <td>470</td>\n",
       "      <td>9</td>\n",
       "      <td>42</td>\n",
       "      <td>319</td>\n",
       "      <td>82</td>\n",
       "      <td>11</td>\n",
       "      <td>67</td>\n",
       "      <td>172</td>\n",
       "      <td>44944</td>\n",
       "    </tr>\n",
       "    <tr>\n",
       "      <th>All</th>\n",
       "      <td>67929</td>\n",
       "      <td>87631</td>\n",
       "      <td>5779</td>\n",
       "      <td>7463</td>\n",
       "      <td>21816</td>\n",
       "      <td>39</td>\n",
       "      <td>1016821</td>\n",
       "      <td>120</td>\n",
       "      <td>300</td>\n",
       "      <td>81740</td>\n",
       "      <td>...</td>\n",
       "      <td>114681</td>\n",
       "      <td>17049</td>\n",
       "      <td>437</td>\n",
       "      <td>1912</td>\n",
       "      <td>10481</td>\n",
       "      <td>2910</td>\n",
       "      <td>382</td>\n",
       "      <td>1826</td>\n",
       "      <td>6561</td>\n",
       "      <td>1635811</td>\n",
       "    </tr>\n",
       "  </tbody>\n",
       "</table>\n",
       "<p>3 rows × 34 columns</p>\n",
       "</div>"
      ],
      "text/plain": [
       "catv      1      2     3     4      5   6        7    8    9     10  ...  \\\n",
       "dc                                                                   ...   \n",
       "0     66113  85230  5630  7280  21197  37   988893  119  295  79445  ...   \n",
       "1      1816   2401   149   183    619   2    27928    1    5   2295  ...   \n",
       "All   67929  87631  5779  7463  21816  39  1016821  120  300  81740  ...   \n",
       "\n",
       "catv      33     34   35    36     37    38   39    40    99      All  \n",
       "dc                                                                     \n",
       "0     111578  16579  428  1870  10162  2828  371  1759  6389  1590867  \n",
       "1       3103    470    9    42    319    82   11    67   172    44944  \n",
       "All   114681  17049  437  1912  10481  2910  382  1826  6561  1635811  \n",
       "\n",
       "[3 rows x 34 columns]"
      ]
     },
     "execution_count": 66,
     "metadata": {},
     "output_type": "execute_result"
    }
   ],
   "source": [
    "pd.crosstab(usagers[\"dc\"],vehicules[\"catv\"],margins=True)"
   ]
  },
  {
   "cell_type": "code",
   "execution_count": null,
   "metadata": {},
   "outputs": [],
   "source": [
    "pd.crosstab(usagers[\"dc\"],usagers[\"place\"],margins=True)"
   ]
  },
  {
   "cell_type": "code",
   "execution_count": null,
   "metadata": {},
   "outputs": [],
   "source": [
    "pd.crosstab(usagers[\"dc\"],usagers[\"catu\"],margins=True)"
   ]
  },
  {
   "cell_type": "code",
   "execution_count": 997,
   "metadata": {},
   "outputs": [
    {
     "data": {
      "text/html": [
       "<div>\n",
       "<style scoped>\n",
       "    .dataframe tbody tr th:only-of-type {\n",
       "        vertical-align: middle;\n",
       "    }\n",
       "\n",
       "    .dataframe tbody tr th {\n",
       "        vertical-align: top;\n",
       "    }\n",
       "\n",
       "    .dataframe thead th {\n",
       "        text-align: right;\n",
       "    }\n",
       "</style>\n",
       "<table border=\"1\" class=\"dataframe\">\n",
       "  <thead>\n",
       "    <tr style=\"text-align: right;\">\n",
       "      <th>secu</th>\n",
       "      <th>0</th>\n",
       "      <th>1</th>\n",
       "      <th>2</th>\n",
       "      <th>3</th>\n",
       "      <th>10</th>\n",
       "      <th>11</th>\n",
       "      <th>12</th>\n",
       "      <th>13</th>\n",
       "      <th>20</th>\n",
       "      <th>21</th>\n",
       "      <th>...</th>\n",
       "      <th>33</th>\n",
       "      <th>40</th>\n",
       "      <th>41</th>\n",
       "      <th>42</th>\n",
       "      <th>43</th>\n",
       "      <th>90</th>\n",
       "      <th>91</th>\n",
       "      <th>92</th>\n",
       "      <th>93</th>\n",
       "      <th>All</th>\n",
       "    </tr>\n",
       "    <tr>\n",
       "      <th>dc</th>\n",
       "      <th></th>\n",
       "      <th></th>\n",
       "      <th></th>\n",
       "      <th></th>\n",
       "      <th></th>\n",
       "      <th></th>\n",
       "      <th></th>\n",
       "      <th></th>\n",
       "      <th></th>\n",
       "      <th></th>\n",
       "      <th></th>\n",
       "      <th></th>\n",
       "      <th></th>\n",
       "      <th></th>\n",
       "      <th></th>\n",
       "      <th></th>\n",
       "      <th></th>\n",
       "      <th></th>\n",
       "      <th></th>\n",
       "      <th></th>\n",
       "      <th></th>\n",
       "    </tr>\n",
       "  </thead>\n",
       "  <tbody>\n",
       "    <tr>\n",
       "      <th>0</th>\n",
       "      <td>65409</td>\n",
       "      <td>3304</td>\n",
       "      <td>2336</td>\n",
       "      <td>7414</td>\n",
       "      <td>5447</td>\n",
       "      <td>1229306</td>\n",
       "      <td>29976</td>\n",
       "      <td>163256</td>\n",
       "      <td>713</td>\n",
       "      <td>376512</td>\n",
       "      <td>...</td>\n",
       "      <td>812</td>\n",
       "      <td>2</td>\n",
       "      <td>2412</td>\n",
       "      <td>1646</td>\n",
       "      <td>1970</td>\n",
       "      <td>68</td>\n",
       "      <td>7483</td>\n",
       "      <td>7347</td>\n",
       "      <td>102850</td>\n",
       "      <td>2084614</td>\n",
       "    </tr>\n",
       "    <tr>\n",
       "      <th>1</th>\n",
       "      <td>2965</td>\n",
       "      <td>264</td>\n",
       "      <td>333</td>\n",
       "      <td>293</td>\n",
       "      <td>184</td>\n",
       "      <td>24698</td>\n",
       "      <td>6339</td>\n",
       "      <td>3657</td>\n",
       "      <td>41</td>\n",
       "      <td>12992</td>\n",
       "      <td>...</td>\n",
       "      <td>25</td>\n",
       "      <td>0</td>\n",
       "      <td>120</td>\n",
       "      <td>210</td>\n",
       "      <td>34</td>\n",
       "      <td>5</td>\n",
       "      <td>170</td>\n",
       "      <td>346</td>\n",
       "      <td>2271</td>\n",
       "      <td>57581</td>\n",
       "    </tr>\n",
       "    <tr>\n",
       "      <th>All</th>\n",
       "      <td>68374</td>\n",
       "      <td>3568</td>\n",
       "      <td>2669</td>\n",
       "      <td>7707</td>\n",
       "      <td>5631</td>\n",
       "      <td>1254004</td>\n",
       "      <td>36315</td>\n",
       "      <td>166913</td>\n",
       "      <td>754</td>\n",
       "      <td>389504</td>\n",
       "      <td>...</td>\n",
       "      <td>837</td>\n",
       "      <td>2</td>\n",
       "      <td>2532</td>\n",
       "      <td>1856</td>\n",
       "      <td>2004</td>\n",
       "      <td>73</td>\n",
       "      <td>7653</td>\n",
       "      <td>7693</td>\n",
       "      <td>105121</td>\n",
       "      <td>2142195</td>\n",
       "    </tr>\n",
       "  </tbody>\n",
       "</table>\n",
       "<p>3 rows × 25 columns</p>\n",
       "</div>"
      ],
      "text/plain": [
       "secu      0     1     2     3    10       11     12      13   20      21  ...  \\\n",
       "dc                                                                        ...   \n",
       "0     65409  3304  2336  7414  5447  1229306  29976  163256  713  376512  ...   \n",
       "1      2965   264   333   293   184    24698   6339    3657   41   12992  ...   \n",
       "All   68374  3568  2669  7707  5631  1254004  36315  166913  754  389504  ...   \n",
       "\n",
       "secu   33  40    41    42    43  90    91    92      93      All  \n",
       "dc                                                                \n",
       "0     812   2  2412  1646  1970  68  7483  7347  102850  2084614  \n",
       "1      25   0   120   210    34   5   170   346    2271    57581  \n",
       "All   837   2  2532  1856  2004  73  7653  7693  105121  2142195  \n",
       "\n",
       "[3 rows x 25 columns]"
      ]
     },
     "execution_count": 997,
     "metadata": {},
     "output_type": "execute_result"
    }
   ],
   "source": [
    "pd.crosstab(usagers[\"dc\"],usagers[\"secu\"],margins=True)"
   ]
  },
  {
   "cell_type": "code",
   "execution_count": null,
   "metadata": {},
   "outputs": [],
   "source": [
    "pd.crosstab(usagers[\"dc\"],usagers[\"sexe\"],margins=True)"
   ]
  },
  {
   "cell_type": "code",
   "execution_count": 83,
   "metadata": {},
   "outputs": [
    {
     "data": {
      "text/html": [
       "<div>\n",
       "<style scoped>\n",
       "    .dataframe tbody tr th:only-of-type {\n",
       "        vertical-align: middle;\n",
       "    }\n",
       "\n",
       "    .dataframe tbody tr th {\n",
       "        vertical-align: top;\n",
       "    }\n",
       "\n",
       "    .dataframe thead th {\n",
       "        text-align: right;\n",
       "    }\n",
       "</style>\n",
       "<table border=\"1\" class=\"dataframe\">\n",
       "  <thead>\n",
       "    <tr style=\"text-align: right;\">\n",
       "      <th>mois</th>\n",
       "      <th>1.0</th>\n",
       "      <th>2.0</th>\n",
       "      <th>3.0</th>\n",
       "      <th>4.0</th>\n",
       "      <th>5.0</th>\n",
       "      <th>6.0</th>\n",
       "      <th>7.0</th>\n",
       "      <th>8.0</th>\n",
       "      <th>9.0</th>\n",
       "      <th>10.0</th>\n",
       "      <th>11.0</th>\n",
       "      <th>12.0</th>\n",
       "      <th>All</th>\n",
       "    </tr>\n",
       "    <tr>\n",
       "      <th>dc</th>\n",
       "      <th></th>\n",
       "      <th></th>\n",
       "      <th></th>\n",
       "      <th></th>\n",
       "      <th></th>\n",
       "      <th></th>\n",
       "      <th></th>\n",
       "      <th></th>\n",
       "      <th></th>\n",
       "      <th></th>\n",
       "      <th></th>\n",
       "      <th></th>\n",
       "      <th></th>\n",
       "    </tr>\n",
       "  </thead>\n",
       "  <tbody>\n",
       "    <tr>\n",
       "      <th>0</th>\n",
       "      <td>158999</td>\n",
       "      <td>139244</td>\n",
       "      <td>162298</td>\n",
       "      <td>168792</td>\n",
       "      <td>180352</td>\n",
       "      <td>194274</td>\n",
       "      <td>187918</td>\n",
       "      <td>159074</td>\n",
       "      <td>189032</td>\n",
       "      <td>195863</td>\n",
       "      <td>178336</td>\n",
       "      <td>170411</td>\n",
       "      <td>2084593</td>\n",
       "    </tr>\n",
       "    <tr>\n",
       "      <th>1</th>\n",
       "      <td>4317</td>\n",
       "      <td>3792</td>\n",
       "      <td>4219</td>\n",
       "      <td>4469</td>\n",
       "      <td>4765</td>\n",
       "      <td>4937</td>\n",
       "      <td>5823</td>\n",
       "      <td>5201</td>\n",
       "      <td>5071</td>\n",
       "      <td>5332</td>\n",
       "      <td>4633</td>\n",
       "      <td>5021</td>\n",
       "      <td>57580</td>\n",
       "    </tr>\n",
       "    <tr>\n",
       "      <th>All</th>\n",
       "      <td>163316</td>\n",
       "      <td>143036</td>\n",
       "      <td>166517</td>\n",
       "      <td>173261</td>\n",
       "      <td>185117</td>\n",
       "      <td>199211</td>\n",
       "      <td>193741</td>\n",
       "      <td>164275</td>\n",
       "      <td>194103</td>\n",
       "      <td>201195</td>\n",
       "      <td>182969</td>\n",
       "      <td>175432</td>\n",
       "      <td>2142173</td>\n",
       "    </tr>\n",
       "  </tbody>\n",
       "</table>\n",
       "</div>"
      ],
      "text/plain": [
       "mois     1.0     2.0     3.0     4.0     5.0     6.0     7.0     8.0     9.0  \\\n",
       "dc                                                                             \n",
       "0     158999  139244  162298  168792  180352  194274  187918  159074  189032   \n",
       "1       4317    3792    4219    4469    4765    4937    5823    5201    5071   \n",
       "All   163316  143036  166517  173261  185117  199211  193741  164275  194103   \n",
       "\n",
       "mois    10.0    11.0    12.0      All  \n",
       "dc                                     \n",
       "0     195863  178336  170411  2084593  \n",
       "1       5332    4633    5021    57580  \n",
       "All   201195  182969  175432  2142173  "
      ]
     },
     "execution_count": 83,
     "metadata": {},
     "output_type": "execute_result"
    }
   ],
   "source": [
    "pd.crosstab(df_rdc[\"dc\"],df_rdc[\"mois\"],margins=True)"
   ]
  },
  {
   "cell_type": "code",
   "execution_count": 16,
   "metadata": {},
   "outputs": [],
   "source": [
    "# MATRICES DE CORRELATION"
   ]
  },
  {
   "cell_type": "code",
   "execution_count": 17,
   "metadata": {},
   "outputs": [
    {
     "name": "stdout",
     "output_type": "stream",
     "text": [
      "            an      mois       lat      long      year        cp       h24  \\\n",
      "an    1.000000  0.002988  0.422194 -0.002287  1.000000  0.029570  0.012856   \n",
      "mois  0.002988  1.000000 -0.019077 -0.005841  0.002988 -0.004415 -0.006528   \n",
      "lat   0.422194 -0.019077  1.000000 -0.005109  0.422194 -0.020220  0.002815   \n",
      "long -0.002287 -0.005841 -0.005109  1.000000 -0.002287  0.005857 -0.001480   \n",
      "year  1.000000  0.002988  0.422194 -0.002287  1.000000  0.029570  0.012856   \n",
      "cp    0.029570 -0.004415 -0.020220  0.005857  0.029570  1.000000  0.018156   \n",
      "h24   0.012856 -0.006528  0.002815 -0.001480  0.012856  0.018156  1.000000   \n",
      "age  -0.177368 -0.007922 -0.075844 -0.002095 -0.177368 -0.030021 -0.008289   \n",
      "\n",
      "           age  \n",
      "an   -0.177368  \n",
      "mois -0.007922  \n",
      "lat  -0.075844  \n",
      "long -0.002095  \n",
      "year -0.177368  \n",
      "cp   -0.030021  \n",
      "h24  -0.008289  \n",
      "age   1.000000  \n"
     ]
    }
   ],
   "source": [
    "print(df_rdc.corr())"
   ]
  },
  {
   "cell_type": "code",
   "execution_count": 18,
   "metadata": {},
   "outputs": [
    {
     "data": {
      "text/plain": [
       "array([[<AxesSubplot:title={'center':'age'}>]], dtype=object)"
      ]
     },
     "execution_count": 18,
     "metadata": {},
     "output_type": "execute_result"
    },
    {
     "data": {
      "image/png": "[encoded data removed]",
      "text/plain": [
       "<Figure size 432x288 with 1 Axes>"
      ]
     },
     "metadata": {
      "needs_background": "light"
     },
     "output_type": "display_data"
    }
   ],
   "source": [
    "# HISTOGRAMME DES AGES\n",
    "df_rdc.hist(column='age')"
   ]
  },
  {
   "cell_type": "code",
   "execution_count": 19,
   "metadata": {},
   "outputs": [
    {
     "data": {
      "text/plain": [
       "array([<AxesSubplot:title={'center':'1'}>,\n",
       "       <AxesSubplot:title={'center':'2'}>], dtype=object)"
      ]
     },
     "execution_count": 19,
     "metadata": {},
     "output_type": "execute_result"
    },
    {
     "data": {
      "image/png": "[encoded data removed]",
      "text/plain": [
       "<Figure size 432x288 with 2 Axes>"
      ]
     },
     "metadata": {
      "needs_background": "light"
     },
     "output_type": "display_data"
    }
   ],
   "source": [
    "# HISTOGRAMME DE L'AGE SELON LE SEXE\n",
    "df_rdc.hist(column='age',by='sexe')"
   ]
  },
  {
   "cell_type": "code",
   "execution_count": 23,
   "metadata": {},
   "outputs": [
    {
     "data": {
      "text/plain": [
       "<AxesSubplot:title={'center':'age'}, xlabel='sexe'>"
      ]
     },
     "execution_count": 23,
     "metadata": {},
     "output_type": "execute_result"
    },
    {
     "data": {
      "image/png": "[encoded data removed]",
      "text/plain": [
       "<Figure size 432x288 with 1 Axes>"
      ]
     },
     "metadata": {
      "needs_background": "light"
     },
     "output_type": "display_data"
    }
   ],
   "source": [
    "df_rdc.boxplot(column='age',by='sexe')"
   ]
  },
  {
   "cell_type": "code",
   "execution_count": 193,
   "metadata": {},
   "outputs": [
    {
     "data": {
      "text/plain": [
       "<AxesSubplot:xlabel='grav', ylabel='age'>"
      ]
     },
     "execution_count": 193,
     "metadata": {},
     "output_type": "execute_result"
    },
    {
     "data": {
      "image/png": "[encoded data removed]",
      "text/plain": [
       "<Figure size 432x288 with 1 Axes>"
      ]
     },
     "metadata": {
      "needs_background": "light"
     },
     "output_type": "display_data"
    }
   ],
   "source": [
    "#scatterplot : age vs. grav\n",
    "df_rdc.plot.scatter(x='grav',y='age')"
   ]
  },
  {
   "cell_type": "code",
   "execution_count": 18,
   "metadata": {},
   "outputs": [
    {
     "data": {
      "text/plain": [
       "Text(0, 0.5, 'Accident count')"
      ]
     },
     "execution_count": 18,
     "metadata": {},
     "output_type": "execute_result"
    },
    {
     "data": {
      "image/png": "[encoded data removed]",
      "text/plain": [
       "<Figure size 864x432 with 1 Axes>"
      ]
     },
     "metadata": {
      "needs_background": "light"
     },
     "output_type": "display_data"
    }
   ],
   "source": [
    "# HISTOGRAMME du mois de l acc\n",
    "plt.figure(figsize=(12,6))\n",
    "df_rdc.mois.hist(rwidth=0.75,alpha =0.50, color= 'blue')\n",
    "plt.title('fréquence d'accident par mois,fontsize= 30)\n",
    "plt.grid(False)\n",
    "plt.xlabel('month jan-dec' , fontsize = 20)\n",
    "plt.ylabel('Accident count' , fontsize = 15)"
   ]
  },
  {
   "cell_type": "code",
   "execution_count": 198,
   "metadata": {},
   "outputs": [
    {
     "data": {
      "text/plain": [
       "array([<AxesSubplot:title={'center':'0'}>,\n",
       "       <AxesSubplot:title={'center':'1'}>], dtype=object)"
      ]
     },
     "execution_count": 198,
     "metadata": {},
     "output_type": "execute_result"
    },
    {
     "data": {
      "image/png": "[encoded data removed]",
      "text/plain": [
       "<Figure size 432x288 with 2 Axes>"
      ]
     },
     "metadata": {
      "needs_background": "light"
     },
     "output_type": "display_data"
    }
   ],
   "source": [
    "# HISTOGRAMME DE L'l heure de l acc\n",
    "df_rdc.hist(column='mois', by='dc')"
   ]
  },
  {
   "cell_type": "code",
   "execution_count": 19,
   "metadata": {},
   "outputs": [
    {
     "data": {
      "text/plain": [
       "Text(0, 0.5, 'Accident count')"
      ]
     },
     "execution_count": 19,
     "metadata": {},
     "output_type": "execute_result"
    },
    {
     "data": {
      "image/png": "[encoded data removed]",
      "text/plain": [
       "<Figure size 864x432 with 1 Axes>"
      ]
     },
     "metadata": {
      "needs_background": "light"
     },
     "output_type": "display_data"
    }
   ],
   "source": [
    "plt.figure(figsize=(12,6))\n",
    "df_rdc.h24.hist(rwidth=0.75,alpha =0.50, color= 'blue')\n",
    "plt.title('Time of the day/night',fontsize= 30)\n",
    "plt.grid(False)\n",
    "plt.xlabel('Time 0-24 hours' , fontsize = 20)\n",
    "plt.ylabel('Accident count' , fontsize = 15)"
   ]
  },
  {
   "cell_type": "code",
   "execution_count": 205,
   "metadata": {},
   "outputs": [
    {
     "data": {
      "text/plain": [
       "27.675639268805625"
      ]
     },
     "execution_count": 205,
     "metadata": {},
     "output_type": "execute_result"
    }
   ],
   "source": [
    "df_rdc.h24.mean()"
   ]
  },
  {
   "cell_type": "code",
   "execution_count": 49,
   "metadata": {},
   "outputs": [
    {
     "data": {
      "text/plain": [
       "0    1923032\n",
       "1      53132\n",
       "Name: dc, dtype: int64"
      ]
     },
     "execution_count": 49,
     "metadata": {},
     "output_type": "execute_result"
    }
   ],
   "source": [
    "df_rdc['dc'].value_counts()"
   ]
  },
  {
   "cell_type": "code",
   "execution_count": 27,
   "metadata": {},
   "outputs": [],
   "source": [
    "plt.rc(\"font\", size=14)\n"
   ]
  },
  {
   "cell_type": "code",
   "execution_count": 28,
   "metadata": {},
   "outputs": [
    {
     "data": {
      "image/png": "[encoded data removed]",
      "text/plain": [
       "<Figure size 432x288 with 1 Axes>"
      ]
     },
     "metadata": {
      "needs_background": "light"
     },
     "output_type": "display_data"
    }
   ],
   "source": [
    "sns.countplot(x='dc',data=df_rdc,palette='hls')\n",
    "plt.show()"
   ]
  },
  {
   "cell_type": "code",
   "execution_count": 64,
   "metadata": {},
   "outputs": [
    {
     "data": {
      "image/png": "[encoded data removed]",
      "text/plain": [
       "<Figure size 432x288 with 1 Axes>"
      ]
     },
     "metadata": {
      "needs_background": "light"
     },
     "output_type": "display_data"
    }
   ],
   "source": [
    "sns.countplot(x='gps',data=df_rdc,palette='hls')\n",
    "plt.show()"
   ]
  },
  {
   "cell_type": "code",
   "execution_count": 50,
   "metadata": {},
   "outputs": [
    {
     "data": {
      "text/html": [
       "<div>\n",
       "<style scoped>\n",
       "    .dataframe tbody tr th:only-of-type {\n",
       "        vertical-align: middle;\n",
       "    }\n",
       "\n",
       "    .dataframe tbody tr th {\n",
       "        vertical-align: top;\n",
       "    }\n",
       "\n",
       "    .dataframe thead th {\n",
       "        text-align: right;\n",
       "    }\n",
       "</style>\n",
       "<table border=\"1\" class=\"dataframe\">\n",
       "  <thead>\n",
       "    <tr style=\"text-align: right;\">\n",
       "      <th></th>\n",
       "      <th>an</th>\n",
       "      <th>mois</th>\n",
       "      <th>lum</th>\n",
       "      <th>agg</th>\n",
       "      <th>atm</th>\n",
       "      <th>lat</th>\n",
       "      <th>long</th>\n",
       "      <th>year</th>\n",
       "      <th>cp</th>\n",
       "      <th>h24</th>\n",
       "      <th>...</th>\n",
       "      <th>surf</th>\n",
       "      <th>situ</th>\n",
       "      <th>place</th>\n",
       "      <th>catu</th>\n",
       "      <th>grav</th>\n",
       "      <th>trajet</th>\n",
       "      <th>secu</th>\n",
       "      <th>dc</th>\n",
       "      <th>age</th>\n",
       "      <th>catv</th>\n",
       "    </tr>\n",
       "    <tr>\n",
       "      <th>sexe</th>\n",
       "      <th></th>\n",
       "      <th></th>\n",
       "      <th></th>\n",
       "      <th></th>\n",
       "      <th></th>\n",
       "      <th></th>\n",
       "      <th></th>\n",
       "      <th></th>\n",
       "      <th></th>\n",
       "      <th></th>\n",
       "      <th></th>\n",
       "      <th></th>\n",
       "      <th></th>\n",
       "      <th></th>\n",
       "      <th></th>\n",
       "      <th></th>\n",
       "      <th></th>\n",
       "      <th></th>\n",
       "      <th></th>\n",
       "      <th></th>\n",
       "      <th></th>\n",
       "    </tr>\n",
       "  </thead>\n",
       "  <tbody>\n",
       "    <tr>\n",
       "      <th>1</th>\n",
       "      <td>11.116906</td>\n",
       "      <td>6.680718</td>\n",
       "      <td>1.950964</td>\n",
       "      <td>1.652693</td>\n",
       "      <td>1.544530</td>\n",
       "      <td>3.445239e+06</td>\n",
       "      <td>9.634889e+06</td>\n",
       "      <td>2011.116906</td>\n",
       "      <td>59721.998037</td>\n",
       "      <td>27.84813</td>\n",
       "      <td>...</td>\n",
       "      <td>1.237410</td>\n",
       "      <td>1.160163</td>\n",
       "      <td>1.209532</td>\n",
       "      <td>1.245545</td>\n",
       "      <td>2.418645</td>\n",
       "      <td>3.245395</td>\n",
       "      <td>17.686453</td>\n",
       "      <td>0.030482</td>\n",
       "      <td>45.804692</td>\n",
       "      <td>12.211474</td>\n",
       "    </tr>\n",
       "    <tr>\n",
       "      <th>2</th>\n",
       "      <td>11.018265</td>\n",
       "      <td>6.686018</td>\n",
       "      <td>1.780250</td>\n",
       "      <td>1.663321</td>\n",
       "      <td>1.591019</td>\n",
       "      <td>3.509441e+06</td>\n",
       "      <td>1.844315e+06</td>\n",
       "      <td>2011.018265</td>\n",
       "      <td>58049.581957</td>\n",
       "      <td>27.32122</td>\n",
       "      <td>...</td>\n",
       "      <td>1.263171</td>\n",
       "      <td>1.144257</td>\n",
       "      <td>1.434244</td>\n",
       "      <td>1.541843</td>\n",
       "      <td>2.705774</td>\n",
       "      <td>2.865687</td>\n",
       "      <td>17.310462</td>\n",
       "      <td>0.019498</td>\n",
       "      <td>47.727152</td>\n",
       "      <td>9.257169</td>\n",
       "    </tr>\n",
       "  </tbody>\n",
       "</table>\n",
       "<p>2 rows × 22 columns</p>\n",
       "</div>"
      ],
      "text/plain": [
       "             an      mois       lum       agg       atm           lat  \\\n",
       "sexe                                                                    \n",
       "1     11.116906  6.680718  1.950964  1.652693  1.544530  3.445239e+06   \n",
       "2     11.018265  6.686018  1.780250  1.663321  1.591019  3.509441e+06   \n",
       "\n",
       "              long         year            cp       h24  ...      surf  \\\n",
       "sexe                                                     ...             \n",
       "1     9.634889e+06  2011.116906  59721.998037  27.84813  ...  1.237410   \n",
       "2     1.844315e+06  2011.018265  58049.581957  27.32122  ...  1.263171   \n",
       "\n",
       "          situ     place      catu      grav    trajet       secu        dc  \\\n",
       "sexe                                                                          \n",
       "1     1.160163  1.209532  1.245545  2.418645  3.245395  17.686453  0.030482   \n",
       "2     1.144257  1.434244  1.541843  2.705774  2.865687  17.310462  0.019498   \n",
       "\n",
       "            age       catv  \n",
       "sexe                        \n",
       "1     45.804692  12.211474  \n",
       "2     47.727152   9.257169  \n",
       "\n",
       "[2 rows x 22 columns]"
      ]
     },
     "execution_count": 50,
     "metadata": {},
     "output_type": "execute_result"
    }
   ],
   "source": [
    "df_rdc.groupby('sexe').mean()"
   ]
  },
  {
   "cell_type": "code",
   "execution_count": 30,
   "metadata": {},
   "outputs": [
    {
     "data": {
      "text/html": [
       "<div>\n",
       "<style scoped>\n",
       "    .dataframe tbody tr th:only-of-type {\n",
       "        vertical-align: middle;\n",
       "    }\n",
       "\n",
       "    .dataframe tbody tr th {\n",
       "        vertical-align: top;\n",
       "    }\n",
       "\n",
       "    .dataframe thead th {\n",
       "        text-align: right;\n",
       "    }\n",
       "</style>\n",
       "<table border=\"1\" class=\"dataframe\">\n",
       "  <thead>\n",
       "    <tr style=\"text-align: right;\">\n",
       "      <th>trajet</th>\n",
       "      <th>0</th>\n",
       "      <th>1</th>\n",
       "      <th>2</th>\n",
       "      <th>3</th>\n",
       "      <th>4</th>\n",
       "      <th>5</th>\n",
       "      <th>9</th>\n",
       "      <th>All</th>\n",
       "    </tr>\n",
       "    <tr>\n",
       "      <th>dc</th>\n",
       "      <th></th>\n",
       "      <th></th>\n",
       "      <th></th>\n",
       "      <th></th>\n",
       "      <th></th>\n",
       "      <th></th>\n",
       "      <th></th>\n",
       "      <th></th>\n",
       "    </tr>\n",
       "  </thead>\n",
       "  <tbody>\n",
       "    <tr>\n",
       "      <th>0</th>\n",
       "      <td>552500</td>\n",
       "      <td>251243</td>\n",
       "      <td>40325</td>\n",
       "      <td>48143</td>\n",
       "      <td>191621</td>\n",
       "      <td>704230</td>\n",
       "      <td>134594</td>\n",
       "      <td>1922656</td>\n",
       "    </tr>\n",
       "    <tr>\n",
       "      <th>1</th>\n",
       "      <td>12062</td>\n",
       "      <td>5822</td>\n",
       "      <td>608</td>\n",
       "      <td>2031</td>\n",
       "      <td>1988</td>\n",
       "      <td>26504</td>\n",
       "      <td>4102</td>\n",
       "      <td>53117</td>\n",
       "    </tr>\n",
       "    <tr>\n",
       "      <th>All</th>\n",
       "      <td>564562</td>\n",
       "      <td>257065</td>\n",
       "      <td>40933</td>\n",
       "      <td>50174</td>\n",
       "      <td>193609</td>\n",
       "      <td>730734</td>\n",
       "      <td>138696</td>\n",
       "      <td>1975773</td>\n",
       "    </tr>\n",
       "  </tbody>\n",
       "</table>\n",
       "</div>"
      ],
      "text/plain": [
       "trajet       0       1      2      3       4       5       9      All\n",
       "dc                                                                   \n",
       "0       552500  251243  40325  48143  191621  704230  134594  1922656\n",
       "1        12062    5822    608   2031    1988   26504    4102    53117\n",
       "All     564562  257065  40933  50174  193609  730734  138696  1975773"
      ]
     },
     "execution_count": 30,
     "metadata": {},
     "output_type": "execute_result"
    }
   ],
   "source": [
    "pd.crosstab(df_rdc[\"dc\"],df_rdc[\"trajet\"],margins=True)"
   ]
  },
  {
   "cell_type": "code",
   "execution_count": 31,
   "metadata": {},
   "outputs": [
    {
     "data": {
      "image/png": "[encoded data removed]",
      "text/plain": [
       "<Figure size 432x288 with 1 Axes>"
      ]
     },
     "metadata": {
      "needs_background": "light"
     },
     "output_type": "display_data"
    }
   ],
   "source": [
    "plt.figure(figsize=(10,10))\n",
    "%matplotlib inline\n",
    "pd.crosstab(df_rdc.lum,df_rdc.dc).plot(kind='bar')\n",
    "plt.title('dc Frequency for lum Title')\n",
    "plt.xlabel('lum')\n",
    "plt.ylabel('Frequency of dc')\n",
    "#plt.savefig('purchase_fre_job')\n",
    "plt.show()"
   ]
  },
  {
   "cell_type": "code",
   "execution_count": 32,
   "metadata": {},
   "outputs": [
    {
     "data": {
      "text/plain": [
       "Text(0, 0.5, 'Frequency of dc')"
      ]
     },
     "execution_count": 32,
     "metadata": {},
     "output_type": "execute_result"
    },
    {
     "data": {
      "image/png": "[encoded data removed]",
      "text/plain": [
       "<Figure size 432x288 with 1 Axes>"
      ]
     },
     "metadata": {
      "needs_background": "light"
     },
     "output_type": "display_data"
    }
   ],
   "source": [
    "%matplotlib inline\n",
    "pd.crosstab(df_rdc.sexe,df_rdc.dc).plot(kind='bar')\n",
    "plt.title('dc Frequency for lum Title')\n",
    "plt.xlabel('lum')\n",
    "plt.ylabel('Frequency of dc')"
   ]
  },
  {
   "cell_type": "code",
   "execution_count": 65,
   "metadata": {},
   "outputs": [
    {
     "data": {
      "text/plain": [
       "Text(0, 0.5, 'Frequency of dc')"
      ]
     },
     "execution_count": 65,
     "metadata": {},
     "output_type": "execute_result"
    },
    {
     "data": {
      "image/png": "[encoded data removed]",
      "text/plain": [
       "<Figure size 432x288 with 1 Axes>"
      ]
     },
     "metadata": {
      "needs_background": "light"
     },
     "output_type": "display_data"
    }
   ],
   "source": [
    "%matplotlib inline\n",
    "pd.crosstab(df_rdc.gps,df_rdc.dc).plot(kind='bar')\n",
    "plt.title('dc Frequency for gps Title')\n",
    "plt.xlabel('gps')\n",
    "plt.ylabel('Frequency of dc')"
   ]
  },
  {
   "cell_type": "code",
   "execution_count": 33,
   "metadata": {},
   "outputs": [
    {
     "data": {
      "text/plain": [
       "Text(0, 0.5, 'Frequency of dc')"
      ]
     },
     "execution_count": 33,
     "metadata": {},
     "output_type": "execute_result"
    },
    {
     "data": {
      "image/png": "[encoded data removed]",
      "text/plain": [
       "<Figure size 432x288 with 1 Axes>"
      ]
     },
     "metadata": {
      "needs_background": "light"
     },
     "output_type": "display_data"
    }
   ],
   "source": [
    "plt.figure(figsize=(10,10))\n",
    "%matplotlib inline\n",
    "pd.crosstab(df_rdc.surf,df_rdc.dc).plot(kind='bar')\n",
    "plt.title('dc Frequency for lum Title')\n",
    "plt.xlabel('lum')\n",
    "plt.ylabel('Frequency of dc')\n"
   ]
  },
  {
   "cell_type": "code",
   "execution_count": null,
   "metadata": {},
   "outputs": [],
   "source": [
    "#### plt.scatter(df_rdc.Long,df_rdc.Lat,c = df_rdc.dc)"
   ]
  },
  {
   "cell_type": "markdown",
   "metadata": {},
   "source": [
    "#  Test sur la moyenne"
   ]
  },
  {
   "cell_type": "code",
   "execution_count": null,
   "metadata": {},
   "outputs": [],
   "source": [
    "# TEST DE STUDENT POUR LES EXPLICATIVES QUANTI"
   ]
  },
  {
   "cell_type": "code",
   "execution_count": 223,
   "metadata": {},
   "outputs": [],
   "source": [
    "from scipy import stats\n"
   ]
  },
  {
   "cell_type": "code",
   "execution_count": 248,
   "metadata": {},
   "outputs": [
    {
     "data": {
      "text/plain": [
       "Ttest_indResult(statistic=73.37265797898313, pvalue=0.0)"
      ]
     },
     "execution_count": 248,
     "metadata": {},
     "output_type": "execute_result"
    }
   ],
   "source": [
    "stats.ttest_ind(df_rdc.loc[df_rdc.dc=='1','age'],df_rdc.loc[df_rdc.dc=='0','age'])"
   ]
  },
  {
   "cell_type": "code",
   "execution_count": 249,
   "metadata": {},
   "outputs": [
    {
     "data": {
      "text/plain": [
       "Ttest_indResult(statistic=-50.64620394236335, pvalue=0.0)"
      ]
     },
     "execution_count": 249,
     "metadata": {},
     "output_type": "execute_result"
    }
   ],
   "source": [
    "stats.ttest_ind(df_rdc.loc[df_rdc.dc=='1','cp'],df_rdc.loc[df_rdc.dc=='0','cp'])\n"
   ]
  },
  {
   "cell_type": "code",
   "execution_count": 250,
   "metadata": {},
   "outputs": [
    {
     "data": {
      "text/plain": [
       "Ttest_indResult(statistic=-34.965401675188794, pvalue=9.129432629626245e-268)"
      ]
     },
     "execution_count": 250,
     "metadata": {},
     "output_type": "execute_result"
    }
   ],
   "source": [
    "stats.ttest_ind(df_rdc.loc[df_rdc.dc=='1','h24'],df_rdc.loc[df_rdc.dc=='0','h24']) #, equal_var=False)"
   ]
  },
  {
   "cell_type": "markdown",
   "metadata": {},
   "source": [
    "# ==============    dichotomisation variables catégorielle  ============\n"
   ]
  },
  {
   "cell_type": "code",
   "execution_count": 36,
   "metadata": {},
   "outputs": [],
   "source": [
    "#  EXPLICATIVES QUALITATIVES\n",
    "x_quali=df_rdc[['catv','trajet','secu','catr','lum']]"
   ]
  },
  {
   "cell_type": "code",
   "execution_count": 37,
   "metadata": {},
   "outputs": [],
   "source": [
    "#  one hot encoding\n",
    "x_dicho = pd.get_dummies(x_quali.astype(str))"
   ]
  },
  {
   "cell_type": "code",
   "execution_count": 38,
   "metadata": {},
   "outputs": [],
   "source": [
    "data=x_dicho"
   ]
  },
  {
   "cell_type": "code",
   "execution_count": 39,
   "metadata": {},
   "outputs": [],
   "source": [
    "data[['dc','age','h24','year','agg']]=df_rdc[['dc','age','h24','year','agg']]"
   ]
  },
  {
   "cell_type": "code",
   "execution_count": 40,
   "metadata": {},
   "outputs": [],
   "source": [
    "data.info()"
   ]
  },
  {
   "cell_type": "code",
   "execution_count": 41,
   "metadata": {},
   "outputs": [],
   "source": [
    "data.dc.value_counts()"
   ]
  },
  {
   "cell_type": "code",
   "execution_count": 42,
   "metadata": {},
   "outputs": [],
   "source": [
    "#data.dc.value_counts(normalize=True)"
   ]
  },
  {
   "cell_type": "code",
   "execution_count": 43,
   "metadata": {},
   "outputs": [],
   "source": [
    "# EXPLICATIVES --feaures\n",
    "x_var= data.loc[:, data.columns != 'dc']\n"
   ]
  },
  {
   "cell_type": "code",
   "execution_count": 44,
   "metadata": {},
   "outputs": [],
   "source": [
    "# endogène --> labels\n",
    "y=data.dc"
   ]
  },
  {
   "cell_type": "code",
   "execution_count": 951,
   "metadata": {},
   "outputs": [],
   "source": [
    "#x_var.info()"
   ]
  },
  {
   "cell_type": "code",
   "execution_count": 1000,
   "metadata": {},
   "outputs": [
    {
     "data": {
      "image/png": "[encoded data removed]",
      "text/plain": [
       "<Figure size 432x288 with 1 Axes>"
      ]
     },
     "metadata": {
      "needs_background": "light"
     },
     "output_type": "display_data"
    }
   ],
   "source": [
    "# VISUALISE on Y/X\n",
    "plt.scatter(df_rdc.age,data.dc)\n",
    "\n",
    "plt.title('distribution du décès' )\n",
    "plt.xlabel('age')\n",
    "plt.ylabel('décès')\n",
    "plt.show()"
   ]
  },
  {
   "cell_type": "markdown",
   "metadata": {},
   "source": [
    "# prediction en mode  echantillon apprentissage - test"
   ]
  },
  {
   "cell_type": "code",
   "execution_count": 45,
   "metadata": {},
   "outputs": [],
   "source": [
    "# TRAINING & TEST DATA \n",
    "X_train, X_test, y_train, y_test = train_test_split(x_var, y, test_size=0.3, random_state=1,stratify=data.dc)\n",
    "df_train, df_test= train_test_split(data, test_size=0.3, random_state=1,stratify=data.dc)"
   ]
  },
  {
   "cell_type": "code",
   "execution_count": 242,
   "metadata": {},
   "outputs": [
    {
     "name": "stdout",
     "output_type": "stream",
     "text": [
      "<class 'pandas.core.frame.DataFrame'>\n",
      "Int64Index: 1383314 entries, 489441 to 445125\n",
      "Columns: 118 entries, catv_1 to agg\n",
      "dtypes: float64(4), int64(2), object(1), uint8(111)\n",
      "memory usage: 230.9+ MB\n"
     ]
    }
   ],
   "source": [
    "df_train.info()"
   ]
  },
  {
   "cell_type": "code",
   "execution_count": 863,
   "metadata": {},
   "outputs": [
    {
     "data": {
      "text/plain": [
       "(1499521, 81)"
      ]
     },
     "execution_count": 863,
     "metadata": {},
     "output_type": "execute_result"
    }
   ],
   "source": [
    "X_train.shape"
   ]
  },
  {
   "cell_type": "code",
   "execution_count": 955,
   "metadata": {},
   "outputs": [
    {
     "data": {
      "text/plain": [
       "(642652, 81)"
      ]
     },
     "execution_count": 955,
     "metadata": {},
     "output_type": "execute_result"
    }
   ],
   "source": [
    "X_test.shape"
   ]
  },
  {
   "cell_type": "markdown",
   "metadata": {},
   "source": [
    "# =======================  SKlearn =============================="
   ]
  },
  {
   "cell_type": "code",
   "execution_count": 73,
   "metadata": {},
   "outputs": [],
   "source": [
    "from sklearn import preprocessing\n",
    "from sklearn.metrics import classification_report\n",
    "\n",
    "#instanciation\n",
    "lr = LogisticRegression(penalty='none',solver='newton-cg')\n",
    "#X_train=X_train.head(100)\n",
    "\n",
    "#y_train=y_train.head(100)\n",
    "\n",
    "\n",
    "\n",
    "#normalisation\n",
    "stds = preprocessing.StandardScaler()\n",
    "#transformation\n",
    "X_Train = stds.fit_transform(X_train)\n",
    "X_test= stds.fit_transform(X_test)"
   ]
  },
  {
   "cell_type": "code",
   "execution_count": 47,
   "metadata": {},
   "outputs": [
    {
     "data": {
      "text/plain": [
       "LogisticRegression(penalty='none', solver='newton-cg')"
      ]
     },
     "execution_count": 47,
     "metadata": {},
     "output_type": "execute_result"
    }
   ],
   "source": [
    "lr.fit(X_Train,y_train)"
   ]
  },
  {
   "cell_type": "code",
   "execution_count": 958,
   "metadata": {},
   "outputs": [
    {
     "data": {
      "text/plain": [
       "(1499521, 81)"
      ]
     },
     "execution_count": 958,
     "metadata": {},
     "output_type": "execute_result"
    }
   ],
   "source": [
    "X_train.shape"
   ]
  },
  {
   "cell_type": "code",
   "execution_count": 959,
   "metadata": {},
   "outputs": [],
   "source": [
    "#affichage des coefficients\n",
    "#print(pd.DataFrame({\"var\":X_train.columns,\"coef\":lr.coef_[0]}))"
   ]
  },
  {
   "cell_type": "code",
   "execution_count": 26,
   "metadata": {},
   "outputs": [],
   "source": [
    "# PREDICTION Y\n",
    "y_pred = lr.predict(X_test)"
   ]
  },
  {
   "cell_type": "code",
   "execution_count": 961,
   "metadata": {},
   "outputs": [],
   "source": [
    "# PERFORMANCES"
   ]
  },
  {
   "cell_type": "code",
   "execution_count": 32,
   "metadata": {},
   "outputs": [
    {
     "name": "stdout",
     "output_type": "stream",
     "text": [
      "0.9728857919994025\n"
     ]
    }
   ],
   "source": [
    "#taux de reconnaissance --> 575257+953/total\n",
    "print(metrics.accuracy_score(y_test,y_pred))"
   ]
  },
  {
   "cell_type": "code",
   "execution_count": 35,
   "metadata": {},
   "outputs": [
    {
     "name": "stdout",
     "output_type": "stream",
     "text": [
      "0.9991541115933084\n"
     ]
    }
   ],
   "source": [
    "#Sensibilité \n",
    "print(metrics.recall_score(y_test,y_pred,pos_label='0'))"
   ]
  },
  {
   "cell_type": "code",
   "execution_count": 34,
   "metadata": {},
   "outputs": [
    {
     "name": "stdout",
     "output_type": "stream",
     "text": [
      "0.027114208000597495\n"
     ]
    }
   ],
   "source": [
    "#taux d'erreur --> 14987+1653/total\n",
    "print(1.0 - metrics.accuracy_score(y_test,y_pred))"
   ]
  },
  {
   "cell_type": "code",
   "execution_count": 965,
   "metadata": {},
   "outputs": [
    {
     "name": "stdout",
     "output_type": "stream",
     "text": [
      "0.4860335195530726\n"
     ]
    }
   ],
   "source": [
    "#précision – 93/(8+93)\n",
    "print(metrics.precision_score(y_test,y_pred,pos_label='1'))"
   ]
  },
  {
   "cell_type": "code",
   "execution_count": 48,
   "metadata": {},
   "outputs": [
    {
     "name": "stdout",
     "output_type": "stream",
     "text": [
      "Accuracy 97.31\n",
      "              precision    recall  f1-score   support\n",
      "\n",
      "           0   0.973505  0.999559  0.986360    625378\n",
      "           1   0.486034  0.015109  0.029308     17274\n",
      "\n",
      "    accuracy                       0.973097    642652\n",
      "   macro avg   0.729769  0.507334  0.507834    642652\n",
      "weighted avg   0.960402  0.973097  0.960635    642652\n",
      "\n"
     ]
    },
    {
     "data": {
      "text/html": [
       "<div>\n",
       "<style scoped>\n",
       "    .dataframe tbody tr th:only-of-type {\n",
       "        vertical-align: middle;\n",
       "    }\n",
       "\n",
       "    .dataframe tbody tr th {\n",
       "        vertical-align: top;\n",
       "    }\n",
       "\n",
       "    .dataframe thead th {\n",
       "        text-align: right;\n",
       "    }\n",
       "</style>\n",
       "<table border=\"1\" class=\"dataframe\">\n",
       "  <thead>\n",
       "    <tr style=\"text-align: right;\">\n",
       "      <th>Prédit</th>\n",
       "      <th>0</th>\n",
       "      <th>1</th>\n",
       "      <th>All</th>\n",
       "    </tr>\n",
       "    <tr>\n",
       "      <th>observé</th>\n",
       "      <th></th>\n",
       "      <th></th>\n",
       "      <th></th>\n",
       "    </tr>\n",
       "  </thead>\n",
       "  <tbody>\n",
       "    <tr>\n",
       "      <th>0</th>\n",
       "      <td>625102</td>\n",
       "      <td>276</td>\n",
       "      <td>625378</td>\n",
       "    </tr>\n",
       "    <tr>\n",
       "      <th>1</th>\n",
       "      <td>17013</td>\n",
       "      <td>261</td>\n",
       "      <td>17274</td>\n",
       "    </tr>\n",
       "    <tr>\n",
       "      <th>All</th>\n",
       "      <td>642115</td>\n",
       "      <td>537</td>\n",
       "      <td>642652</td>\n",
       "    </tr>\n",
       "  </tbody>\n",
       "</table>\n",
       "</div>"
      ],
      "text/plain": [
       "Prédit        0    1     All\n",
       "observé                     \n",
       "0        625102  276  625378\n",
       "1         17013  261   17274\n",
       "All      642115  537  642652"
      ]
     },
     "execution_count": 48,
     "metadata": {},
     "output_type": "execute_result"
    }
   ],
   "source": [
    "y_pred = lr.predict(X_test)\n",
    "sk_report = classification_report(\n",
    "    digits=6,\n",
    "    y_true=y_test, \n",
    "    y_pred=y_pred)\n",
    "print(\"Accuracy\", round(accuracy_score(y_pred, y_test)*100,2))\n",
    "print(sk_report)\n",
    "pd.crosstab(y_test, y_pred, rownames=['observé'], colnames=['Prédit'], margins=True)"
   ]
  },
  {
   "cell_type": "code",
   "execution_count": 81,
   "metadata": {},
   "outputs": [
    {
     "name": "stderr",
     "output_type": "stream",
     "text": [
      "/usr/local/lib/python3.6/dist-packages/sklearn/linear_model/_logistic.py:764: ConvergenceWarning: lbfgs failed to converge (status=1):\n",
      "STOP: TOTAL NO. of ITERATIONS REACHED LIMIT.\n",
      "\n",
      "Increase the number of iterations (max_iter) or scale the data as shown in:\n",
      "    https://scikit-learn.org/stable/modules/preprocessing.html\n",
      "Please also refer to the documentation for alternative solver options:\n",
      "    https://scikit-learn.org/stable/modules/linear_model.html#logistic-regression\n",
      "  extra_warning_msg=_LOGISTIC_SOLVER_CONVERGENCE_MSG)\n",
      "/usr/local/lib/python3.6/dist-packages/sklearn/linear_model/_logistic.py:764: ConvergenceWarning: lbfgs failed to converge (status=1):\n",
      "STOP: TOTAL NO. of ITERATIONS REACHED LIMIT.\n",
      "\n",
      "Increase the number of iterations (max_iter) or scale the data as shown in:\n",
      "    https://scikit-learn.org/stable/modules/preprocessing.html\n",
      "Please also refer to the documentation for alternative solver options:\n",
      "    https://scikit-learn.org/stable/modules/linear_model.html#logistic-regression\n",
      "  extra_warning_msg=_LOGISTIC_SOLVER_CONVERGENCE_MSG)\n"
     ]
    },
    {
     "name": "stdout",
     "output_type": "stream",
     "text": [
      "Accuracy 58.39\n",
      "              precision    recall  f1-score   support\n",
      "\n",
      "           0   0.993719  0.576061  0.729329    625378\n",
      "           1   0.053538  0.868183  0.100856     17274\n",
      "\n",
      "    accuracy                       0.583913    642652\n",
      "   macro avg   0.523629  0.722122  0.415093    642652\n",
      "weighted avg   0.968448  0.583913  0.712436    642652\n",
      "\n"
     ]
    },
    {
     "data": {
      "text/html": [
       "<div>\n",
       "<style scoped>\n",
       "    .dataframe tbody tr th:only-of-type {\n",
       "        vertical-align: middle;\n",
       "    }\n",
       "\n",
       "    .dataframe tbody tr th {\n",
       "        vertical-align: top;\n",
       "    }\n",
       "\n",
       "    .dataframe thead th {\n",
       "        text-align: right;\n",
       "    }\n",
       "</style>\n",
       "<table border=\"1\" class=\"dataframe\">\n",
       "  <thead>\n",
       "    <tr style=\"text-align: right;\">\n",
       "      <th>Prédit</th>\n",
       "      <th>0</th>\n",
       "      <th>1</th>\n",
       "      <th>All</th>\n",
       "    </tr>\n",
       "    <tr>\n",
       "      <th>Observé</th>\n",
       "      <th></th>\n",
       "      <th></th>\n",
       "      <th></th>\n",
       "    </tr>\n",
       "  </thead>\n",
       "  <tbody>\n",
       "    <tr>\n",
       "      <th>0</th>\n",
       "      <td>360256</td>\n",
       "      <td>265122</td>\n",
       "      <td>625378</td>\n",
       "    </tr>\n",
       "    <tr>\n",
       "      <th>1</th>\n",
       "      <td>2277</td>\n",
       "      <td>14997</td>\n",
       "      <td>17274</td>\n",
       "    </tr>\n",
       "    <tr>\n",
       "      <th>All</th>\n",
       "      <td>362533</td>\n",
       "      <td>280119</td>\n",
       "      <td>642652</td>\n",
       "    </tr>\n",
       "  </tbody>\n",
       "</table>\n",
       "</div>"
      ],
      "text/plain": [
       "Prédit        0       1     All\n",
       "Observé                        \n",
       "0        360256  265122  625378\n",
       "1          2277   14997   17274\n",
       "All      362533  280119  642652"
      ]
     },
     "execution_count": 81,
     "metadata": {},
     "output_type": "execute_result"
    }
   ],
   "source": [
    "#  Optimisation par Méthode --> Hyperparameter tuning)\n",
    "from sklearn.linear_model import LogisticRegressionCV\n",
    "lr = LogisticRegressionCV(cv=3, random_state=0, max_iter=100)\n",
    "# Fit the model on the trainng data.\n",
    "lr.fit(X_train, y_train)\n",
    "y_pred = lr.predict(X_test)\n",
    "sk_report = classification_report(\n",
    "    digits=6,\n",
    "    y_true=y_test, \n",
    "    y_pred=y_pred)\n",
    "print(\"Accuracy\", round(accuracy_score(y_pred, y_test)*100,2))\n",
    "print(sk_report)\n",
    "pd.crosstab(y_test, y_pred, rownames=['Observé'], colnames=['Prédit'], margins=True)"
   ]
  },
  {
   "cell_type": "code",
   "execution_count": 82,
   "metadata": {},
   "outputs": [
    {
     "name": "stdout",
     "output_type": "stream",
     "text": [
      "0.8681833970128516\n"
     ]
    }
   ],
   "source": [
    "#Sensibilité \n",
    "print(metrics.recall_score(y_test,y_pred,pos_label='1'))"
   ]
  },
  {
   "cell_type": "markdown",
   "metadata": {},
   "source": [
    "#  =================Arbre Decision ============================"
   ]
  },
  {
   "cell_type": "code",
   "execution_count": 60,
   "metadata": {},
   "outputs": [],
   "source": [
    "from sklearn.tree import DecisionTreeClassifier\n",
    "arbreFirst=DecisionTreeClassifier(min_samples_split=30,min_samples_leaf=10) #,max_leaf_nodes=20"
   ]
  },
  {
   "cell_type": "code",
   "execution_count": 61,
   "metadata": {},
   "outputs": [
    {
     "data": {
      "text/plain": [
       "DecisionTreeClassifier(min_samples_leaf=10, min_samples_split=30)"
      ]
     },
     "execution_count": 61,
     "metadata": {},
     "output_type": "execute_result"
    }
   ],
   "source": [
    "# Construction de l'arbre\n",
    "\n",
    "arbreFirst.fit(X_train,y_train)"
   ]
  },
  {
   "cell_type": "code",
   "execution_count": 51,
   "metadata": {},
   "outputs": [
    {
     "data": {
      "image/png": "[encoded data removed]",
      "text/plain": [
       "<Figure size 1080x1080 with 1 Axes>"
      ]
     },
     "metadata": {
      "needs_background": "light"
     },
     "output_type": "display_data"
    }
   ],
   "source": [
    "from sklearn.tree import plot_tree\n",
    "plt.figure(figsize=(15,15))\n",
    "plot_tree(arbreFirst,feature_names=list(x_var.columns ),filled=True)\n",
    "plt.show()"
   ]
  },
  {
   "cell_type": "code",
   "execution_count": 62,
   "metadata": {},
   "outputs": [
    {
     "name": "stdout",
     "output_type": "stream",
     "text": [
      "   Variable  Importance\n",
      "77      age    0.252051\n",
      "78      h24    0.145984\n",
      "79     year    0.137332\n",
      "44  secu_12    0.086612\n",
      "80      agg    0.085198\n",
      "..      ...         ...\n",
      "10  catv_19    0.000000\n",
      "60  secu_90    0.000000\n",
      "30   catv_8    0.000000\n",
      "56  secu_40    0.000000\n",
      "28   catv_6    0.000000\n",
      "\n",
      "[81 rows x 2 columns]\n"
     ]
    }
   ],
   "source": [
    "#importance des variables\n",
    "impVarFirst={\"Variable\":x_var.columns,\"Importance\":arbreFirst.feature_importances_}\n",
    "print(pd.DataFrame(impVarFirst).sort_values(by=\"Importance\",ascending=False))"
   ]
  },
  {
   "cell_type": "code",
   "execution_count": 63,
   "metadata": {},
   "outputs": [
    {
     "name": "stdout",
     "output_type": "stream",
     "text": [
      "(array(['0', '1'], dtype=object), array([631172,  11480]))\n"
     ]
    }
   ],
   "source": [
    "#prédiction sur l'échantillon test\n",
    "pred = arbreFirst.predict(X_test)\n",
    "\n",
    "#distribution des predictions\n",
    "\n",
    "print(np.unique(pred,return_counts=True))"
   ]
  },
  {
   "cell_type": "code",
   "execution_count": 64,
   "metadata": {},
   "outputs": [
    {
     "name": "stdout",
     "output_type": "stream",
     "text": [
      "[[615217  10161]\n",
      " [ 15955   1319]]\n"
     ]
    }
   ],
   "source": [
    "# MATRICE DE CONFUSION \n",
    "print(metrics.confusion_matrix(y_test,pred))"
   ]
  },
  {
   "cell_type": "markdown",
   "metadata": {},
   "source": [
    "# Indicateur de performance"
   ]
  },
  {
   "cell_type": "code",
   "execution_count": 68,
   "metadata": {},
   "outputs": [
    {
     "name": "stdout",
     "output_type": "stream",
     "text": [
      "0.9593621431194488\n"
     ]
    }
   ],
   "source": [
    "#taux de reconnaissance --> 575257+953/total\n",
    "print(metrics.accuracy_score(y_test,pred))"
   ]
  },
  {
   "cell_type": "code",
   "execution_count": null,
   "metadata": {},
   "outputs": [],
   "source": [
    "# comparaison de l'accuracy entre train & test"
   ]
  },
  {
   "cell_type": "code",
   "execution_count": 69,
   "metadata": {},
   "outputs": [],
   "source": [
    "# Prediction sur l'echantillon train\n",
    "pred2 = arbreFirst.predict(X_train)"
   ]
  },
  {
   "cell_type": "code",
   "execution_count": 70,
   "metadata": {},
   "outputs": [
    {
     "name": "stdout",
     "output_type": "stream",
     "text": [
      "0.9737416148223332\n"
     ]
    }
   ],
   "source": [
    "print(metrics.accuracy_score(y_train,pred2))"
   ]
  },
  {
   "cell_type": "code",
   "execution_count": 71,
   "metadata": {},
   "outputs": [
    {
     "name": "stdout",
     "output_type": "stream",
     "text": [
      "[[1457949    1266]\n",
      " [  38109    2197]]\n"
     ]
    }
   ],
   "source": [
    "# matrice de confusion sur l'echantillon train\n",
    "print(metrics.confusion_matrix(y_train,pred2))"
   ]
  },
  {
   "cell_type": "code",
   "execution_count": 976,
   "metadata": {},
   "outputs": [
    {
     "data": {
      "text/plain": [
       "(1499521,)"
      ]
     },
     "execution_count": 976,
     "metadata": {},
     "output_type": "execute_result"
    }
   ],
   "source": [
    "y_train.shape"
   ]
  },
  {
   "cell_type": "code",
   "execution_count": 979,
   "metadata": {},
   "outputs": [
    {
     "name": "stdout",
     "output_type": "stream",
     "text": [
      "0.040637856880551215\n"
     ]
    }
   ],
   "source": [
    "#taux d'erreur --> 14987+1653/total\n",
    "print(1.0 - metrics.accuracy_score(y_test,pred))"
   ]
  },
  {
   "cell_type": "code",
   "execution_count": 67,
   "metadata": {},
   "outputs": [
    {
     "name": "stdout",
     "output_type": "stream",
     "text": [
      "0.9837522266533201\n"
     ]
    }
   ],
   "source": [
    "#rappel – sensibilité 953/14987+953\n",
    "print(metrics.recall_score(y_test,pred,pos_label='0'))"
   ]
  },
  {
   "cell_type": "code",
   "execution_count": 981,
   "metadata": {},
   "outputs": [
    {
     "name": "stdout",
     "output_type": "stream",
     "text": [
      "0.11489547038327526\n"
     ]
    }
   ],
   "source": [
    "#précision – 93/(8+93)\n",
    "print(metrics.precision_score(y_test,pred,pos_label='1'))"
   ]
  },
  {
   "cell_type": "code",
   "execution_count": null,
   "metadata": {},
   "outputs": [],
   "source": []
  }
 ],
 "metadata": {
  "kernelspec": {
   "display_name": "Python 3",
   "language": "python",
   "name": "python3"
  },
  "language_info": {
   "codemirror_mode": {
    "name": "ipython",
    "version": 3
   },
   "file_extension": ".py",
   "mimetype": "text/x-python",
   "name": "python",
   "nbconvert_exporter": "python",
   "pygments_lexer": "ipython3",
   "version": "3.6.9"
  }
 },
 "nbformat": 4,
 "nbformat_minor": 4
}
